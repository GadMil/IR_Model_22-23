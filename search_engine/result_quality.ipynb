{
 "cells": [
  {
   "cell_type": "markdown",
   "source": [
    "# precision@k"
   ],
   "metadata": {
    "collapsed": false,
    "pycharm": {
     "name": "#%% md\n"
    }
   }
  },
  {
   "cell_type": "code",
   "execution_count": null,
   "outputs": [],
   "source": [
    "def precision_at_k(expected ,actual,k=40):\n",
    "    \"\"\"\n",
    "    Calculate precision@k.\n",
    "\n",
    "    Parameters:\n",
    "    -----------\n",
    "    expected: list of expected relevant documents, as doc_ids.\n",
    "    actual: list of the actual documents returned, as doc_ids, sorted by score.\n",
    "    k: integer, the number of relevant docs to measure.\n",
    "\n",
    "    Returns:\n",
    "    precision@k with 3 digits after the decimal point.\n",
    "    \"\"\"\n",
    "    k_actual = actual[:k]\n",
    "    overlap = set(k_actual).intersection(expected)\n",
    "\n",
    "    return round(len(overlap) / k, 3)"
   ],
   "metadata": {
    "collapsed": false,
    "pycharm": {
     "name": "#%%\n"
    }
   }
  },
  {
   "cell_type": "markdown",
   "source": [
    "# recall"
   ],
   "metadata": {
    "collapsed": false,
    "pycharm": {
     "name": "#%% md\n"
    }
   }
  },
  {
   "cell_type": "code",
   "execution_count": null,
   "outputs": [],
   "source": [
    "def recall(expected ,actual,k=40):\n",
    "    \"\"\"\n",
    "    Calculate recall@k.\n",
    "\n",
    "    Parameters:\n",
    "    -----------\n",
    "    expected: list of expected relevant documents, as doc_ids.\n",
    "    actual: list of the actual documents returned, as doc_ids, sorted by score.\n",
    "    k: integer, the number of relevant docs to measure.\n",
    "\n",
    "    Returns:\n",
    "    recall@k with 3 digits after the decimal point.\n",
    "    \"\"\"\n",
    "    k_actual = actual[:k]\n",
    "    overlap = set(k_actual).intersection(expected)\n",
    "\n",
    "    return round(len(overlap) / len(expected), 3)"
   ],
   "metadata": {
    "collapsed": false,
    "pycharm": {
     "name": "#%%\n"
    }
   }
  },
  {
   "cell_type": "markdown",
   "source": [
    "# map@k"
   ],
   "metadata": {
    "collapsed": false,
    "pycharm": {
     "name": "#%% md\n"
    }
   }
  },
  {
   "cell_type": "code",
   "execution_count": null,
   "outputs": [],
   "source": [
    "def map_at_K(expected, actual, k=40):\n",
    "    \"\"\"\n",
    "    Calculate average_precision@k (precision in every recall point).\n",
    "\n",
    "    Parameters:\n",
    "    -----------\n",
    "    expected: list of lists containing expected results for queries, as doc_id.\n",
    "    actual: list of lists containing sorted actual results for queries, as doc_id, sorted by score. Must be ordered like the expected list.\n",
    "\n",
    "    Returns:\n",
    "    -----------\n",
    "    float, average precision@k with 3 digits after the decimal point.\n",
    "    \"\"\"\n",
    "    if not expected:\n",
    "        return 0.0\n",
    "    avg_precision = []\n",
    "    expected_size = len(expected)\n",
    "    for i in range(expected_size):\n",
    "        k_actual = actual[i][:k]\n",
    "        q_expected = expected[i]\n",
    "        dic = {doc_id: 0 for doc_id in q_expected}\n",
    "        sum_result, overlap, current_k = 0.0, 0, 0\n",
    "        for doc_id in k_actual:\n",
    "            current_k += 1\n",
    "            if doc_id in dic:\n",
    "                overlap += 1\n",
    "                sum_result += precision_at_k(q_expected, actual[i], current_k)\n",
    "        avg_precision.append(sum_result / overlap)\n",
    "    return round(sum(avg_precision) / len(avg_precision), 3)"
   ],
   "metadata": {
    "collapsed": false,
    "pycharm": {
     "name": "#%%\n"
    }
   }
  },
  {
   "cell_type": "markdown",
   "source": [
    "# plot for map@k"
   ],
   "metadata": {
    "collapsed": false,
    "pycharm": {
     "name": "#%% md\n"
    }
   }
  },
  {
   "cell_type": "code",
   "execution_count": null,
   "outputs": [],
   "source": [
    "import matplotlib.pyplot as plt\n",
    "\n",
    "def plot_map_at_K_for_different_k(expected, actual, k):\n",
    "    \"\"\"\n",
    "    Plot map@k.\n",
    "\n",
    "    Parameters:\n",
    "    ----------\n",
    "    expected: list of lists containing expected results for queries, as doc_id.\n",
    "    actual: list of lists containing sorted actual results for queries, as doc_id, sorted by score.\n",
    "    k: list of integers of different k.\n",
    "\n",
    "    Returns:\n",
    "    ----------\n",
    "    List of map@k for each k received.\n",
    "    \"\"\"\n",
    "    values = []\n",
    "    for k_val in k:\n",
    "      values.append(map_at_K(expected, actual, k_val))\n",
    "    plt.plot(k, values, color='m', linewidth=3, marker='o', markersize=8)\n",
    "    plt.xlabel('k')\n",
    "    plt.ylabel('actual')\n",
    "    plt.show()\n",
    "    return values"
   ],
   "metadata": {
    "collapsed": false,
    "pycharm": {
     "name": "#%%\n"
    }
   }
  },
  {
   "cell_type": "markdown",
   "source": [
    "# plot average time for different versions of the engine"
   ],
   "metadata": {
    "collapsed": false,
    "pycharm": {
     "name": "#%% md\n"
    }
   }
  },
  {
   "cell_type": "code",
   "execution_count": null,
   "outputs": [],
   "source": [
    "def plot_version_time(times):\n",
    "    x = [i for i in range(1, len(times) + 1)]\n",
    "    plt.plot(x, times, color='tan', linewidth=3, marker='o', markersize=8)\n",
    "    plt.xticks(x)\n",
    "    plt.xlabel('Engine versions')\n",
    "    plt.ylabel('Times measurements')\n",
    "    for a,b in zip(x, times):\n",
    "      plt.text(a, b, str(b))\n",
    "    plt.show()"
   ],
   "metadata": {
    "collapsed": false,
    "pycharm": {
     "name": "#%%\n"
    }
   }
  },
  {
   "cell_type": "markdown",
   "source": [
    "# plot recall@k"
   ],
   "metadata": {
    "collapsed": false,
    "pycharm": {
     "name": "#%% md\n"
    }
   }
  },
  {
   "cell_type": "code",
   "execution_count": null,
   "outputs": [],
   "source": [
    "def plot_recall_for_different_k(expected, actual, k):\n",
    "    \"\"\"\n",
    "    Plot recall@k.\n",
    "\n",
    "    Parameters:\n",
    "    ----------\n",
    "    expected: list of lists containing expected results for queries, as doc_id.\n",
    "    actual: list of lists containing sorted actual results for queries, as doc_id, sorted by score.\n",
    "    k: list of integers of different k.\n",
    "\n",
    "    Returns:\n",
    "    ----------\n",
    "    List of recall@k for each k received.\n",
    "    \"\"\"\n",
    "    values = []\n",
    "    for k_val in k:\n",
    "      values.append(recall(expected, actual, k_val))\n",
    "    plt.plot(k, values, color='m', linewidth=3, marker='o', markersize=8)\n",
    "    plt.xlabel('k')\n",
    "    plt.ylabel('actual')\n",
    "    plt.show()\n",
    "    return values"
   ],
   "metadata": {
    "collapsed": false,
    "pycharm": {
     "name": "#%%\n"
    }
   }
  }
 ],
 "metadata": {
  "kernelspec": {
   "display_name": "Python 3",
   "language": "python",
   "name": "python3"
  },
  "language_info": {
   "codemirror_mode": {
    "name": "ipython",
    "version": 2
   },
   "file_extension": ".py",
   "mimetype": "text/x-python",
   "name": "python",
   "nbconvert_exporter": "python",
   "pygments_lexer": "ipython2",
   "version": "2.7.6"
  }
 },
 "nbformat": 4,
 "nbformat_minor": 0
}