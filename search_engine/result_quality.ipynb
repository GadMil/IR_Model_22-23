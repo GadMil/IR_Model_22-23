{
 "cells": [
  {
   "cell_type": "markdown",
   "source": [
    "# precision@k"
   ],
   "metadata": {
    "collapsed": false,
    "pycharm": {
     "name": "#%% md\n"
    }
   }
  },
  {
   "cell_type": "code",
   "execution_count": 5,
   "outputs": [],
   "source": [
    "def precision_at_k(expected ,actual,k=40):\n",
    "    \"\"\"\n",
    "    Calculate precision@k.\n",
    "\n",
    "    Parameters:\n",
    "    -----------\n",
    "    expected: list of expected relevant documents, as doc_ids.\n",
    "    actual: list of the actual documents returned, as doc_ids, sorted by score.\n",
    "    k: integer, the number of relevant docs to measure.\n",
    "\n",
    "    Returns:\n",
    "    precision@k with 3 digits after the decimal point.\n",
    "    \"\"\"\n",
    "    k_actual = actual[:k]\n",
    "    overlap = set(k_actual).intersection(expected)\n",
    "\n",
    "    return round(len(overlap) / k, 3)"
   ],
   "metadata": {
    "collapsed": false,
    "pycharm": {
     "name": "#%%\n"
    }
   }
  },
  {
   "cell_type": "code",
   "execution_count": 26,
   "outputs": [
    {
     "name": "stdout",
     "output_type": "stream",
     "text": [
      "0.0\n",
      "set()\n"
     ]
    }
   ],
   "source": [
    "a = [58087053, 23599164, 756661, 6202299, 2238664, 20745131, 23304875, 1474184, 28931044, 34197863, 24511042, 13713951, 37546169, 25152389, 43171615, 30256748, 9604541, 11584601, 2392833, 47677301, 6132491, 3316408, 3988284, 54827462, 8073864, 22105400, 36056838, 32946046, 11919152, 6971961, 42323044, 20051748, 27774695, 17064535, 33396090, 13609323, 12893335, 67728341, 30282366, 4716411, 24761742, 3081688, 33874163, 20720928, 15115345, 5286499, 65297019, 66143783, 8831679, 8132974, 65446040, 57664292, 45486084, 2577511, 22479045, 6510908, 1149759, 41296287, 35954149, 67660304, 47260669, 8771962, 37620343, 12417, 537311, 56360914, 49293359, 7183330, 4831984, 24122892, 2175432, 46754228, 38225167, 52846535, 61857873, 39369499, 20569626, 3666777, 35965938, 6692412, 47811266, 46893596, 4263239, 52844585, 50638469, 47454964, 23204518, 33384995, 2343607, 728125, 25791729, 6855250, 1240278, 8506992, 59022916, 49994462, 24601809, 13022459, 21277532, 38264246, 18112571, 36151694, 36164948, 6181462, 67907495, 55452161, 50810955, 47193958, 24218306, 3158432, 25936159, 47050667, 34947020, 15155870, 21705368, 19660433, 16120458, 6916180, 1473039, 60878308, 25794082, 6720859, 479900, 8543813, 7163640, 49368688, 11846816, 17572642, 57594734, 37913078, 57267348, 65710509, 52347664, 39249518, 17444480, 13286439, 32071503, 20156198, 17935216, 13896419, 61270147, 3550611, 43418203, 9368383, 23206676, 8076508, 1581678, 28419339, 7067606, 728624, 4119114, 34873294, 64103969, 59165080, 58418187, 51012017, 43292977, 3752834, 2750909, 35774378, 24328765, 2936381, 63011214, 48696840, 34551164, 30295626, 29360351, 25968177, 19558213, 15827855, 8137608, 41085661, 22272139, 25104700, 24045172, 6380293, 8268079, 4986998, 4537950, 2305364, 67319533, 2645551, 67420826, 14452231, 8907203, 8433769, 47005390, 29360421, 63807761, 41855521, 18170804, 1980219, 1820317, 18980003, 63832649, 17996305, 2343584, 12492417, 40807480, 50463656]\n",
    "\n",
    "\n",
    "e = [4604645, 273707, 300805, 604727, 19619306, 30860428, 26731675, 5212064, 667037, 6826364, 215424, 47660, 8728856, 63520964, 273700, 49099835, 63534797, 4506407, 31824340, 3785715, 5964683, 482824, 12343966, 28890200, 300784, 1646753, 408360, 1623162, 1566948, 68117784, 38579961, 8866584, 6887661, 5612891, 54459918, 2461806, 6332026, 3639440, 366244, 1301881, 5286885, 321546, 2898609, 838057, 2165666, 39228613]\n",
    "\n",
    "p = precision_at_k(e, a)\n",
    "print(p)\n",
    "print(set(a[:40]).intersection(e[:40]))"
   ],
   "metadata": {
    "collapsed": false,
    "pycharm": {
     "name": "#%%\n"
    }
   }
  },
  {
   "cell_type": "markdown",
   "source": [
    "# recall"
   ],
   "metadata": {
    "collapsed": false,
    "pycharm": {
     "name": "#%% md\n"
    }
   }
  },
  {
   "cell_type": "code",
   "execution_count": 6,
   "outputs": [],
   "source": [
    "def recall(expected ,actual,k=40):\n",
    "    \"\"\"\n",
    "    Calculate recall@k.\n",
    "\n",
    "    Parameters:\n",
    "    -----------\n",
    "    expected: list of expected relevant documents, as doc_ids.\n",
    "    actual: list of the actual documents returned, as doc_ids, sorted by score.\n",
    "    k: integer, the number of relevant docs to measure.\n",
    "\n",
    "    Returns:\n",
    "    recall@k with 3 digits after the decimal point.\n",
    "    \"\"\"\n",
    "    k_actual = actual[:k]\n",
    "    overlap = set(k_actual).intersection(expected)\n",
    "\n",
    "    return round(len(overlap) / len(expected), 3)"
   ],
   "metadata": {
    "collapsed": false,
    "pycharm": {
     "name": "#%%\n"
    }
   }
  },
  {
   "cell_type": "code",
   "execution_count": 7,
   "outputs": [],
   "source": [
    "def ap_at_k(expected ,actual,k=40):\n",
    "    k_actual = actual[:k]\n",
    "    dic = {doc_id: 0 for doc_id in expected}\n",
    "    sum_result, overlap, current_k = 0.0, 0, 0\n",
    "    for doc_id in k_actual:\n",
    "        current_k += 1\n",
    "        if doc_id in dic:\n",
    "            overlap += 1\n",
    "            sum_result += precision_at_k(expected, actual, current_k)\n",
    "    return sum_result / overlap"
   ],
   "metadata": {
    "collapsed": false,
    "pycharm": {
     "name": "#%%\n"
    }
   }
  },
  {
   "cell_type": "markdown",
   "source": [
    "# map@k"
   ],
   "metadata": {
    "collapsed": false,
    "pycharm": {
     "name": "#%% md\n"
    }
   }
  },
  {
   "cell_type": "code",
   "execution_count": 8,
   "outputs": [],
   "source": [
    "def map_at_K(expected, actual, k=40):\n",
    "    \"\"\"\n",
    "    Calculate average_precision@k (precision in every recall point).\n",
    "\n",
    "    Parameters:\n",
    "    -----------\n",
    "    expected: list of lists containing expected results for queries, as doc_id.\n",
    "    actual: list of lists containing sorted actual results for queries, as doc_id, sorted by score. Must be ordered like the expected list.\n",
    "\n",
    "    Returns:\n",
    "    -----------\n",
    "    float, average precision@k with 3 digits after the decimal point.\n",
    "    \"\"\"\n",
    "    if not expected:\n",
    "        return 0.0\n",
    "    avg_precision = []\n",
    "    expected_size = len(expected)\n",
    "    for i in range(expected_size):\n",
    "        k_actual = actual[i][:k]\n",
    "        q_expected = expected[i]\n",
    "        dic = {doc_id: 0 for doc_id in q_expected}\n",
    "        sum_result, overlap, current_k = 0.0, 0, 0\n",
    "        for doc_id in k_actual:\n",
    "            current_k += 1\n",
    "            if doc_id in dic:\n",
    "                overlap += 1\n",
    "                sum_result += precision_at_k(q_expected, actual[i], current_k)\n",
    "        avg_precision.append(sum_result / overlap)\n",
    "    return round(sum(avg_precision) / len(avg_precision), 3)"
   ],
   "metadata": {
    "collapsed": false,
    "pycharm": {
     "name": "#%%\n"
    }
   }
  },
  {
   "cell_type": "markdown",
   "source": [
    "# plot for map@k"
   ],
   "metadata": {
    "collapsed": false,
    "pycharm": {
     "name": "#%% md\n"
    }
   }
  },
  {
   "cell_type": "code",
   "execution_count": 9,
   "outputs": [],
   "source": [
    "import matplotlib.pyplot as plt\n",
    "\n",
    "def plot_map_at_K_for_different_k(expected, actual, k):\n",
    "    \"\"\"\n",
    "    Plot map@k.\n",
    "\n",
    "    Parameters:\n",
    "    ----------\n",
    "    expected: list of lists containing expected results for queries, as doc_id.\n",
    "    actual: list of lists containing sorted actual results for queries, as doc_id, sorted by score.\n",
    "    k: list of integers of different k.\n",
    "\n",
    "    Returns:\n",
    "    ----------\n",
    "    List of map@k for each k received.\n",
    "    \"\"\"\n",
    "    values = []\n",
    "    for k_val in k:\n",
    "      values.append(map_at_K(expected, actual, k_val))\n",
    "    plt.plot(k, values, color='m', linewidth=3, marker='o', markersize=8)\n",
    "    plt.xlabel('k')\n",
    "    plt.ylabel('actual')\n",
    "    plt.show()\n",
    "    return values"
   ],
   "metadata": {
    "collapsed": false,
    "pycharm": {
     "name": "#%%\n"
    }
   }
  },
  {
   "cell_type": "markdown",
   "source": [
    "# plot average time for different versions of the engine"
   ],
   "metadata": {
    "collapsed": false,
    "pycharm": {
     "name": "#%% md\n"
    }
   }
  },
  {
   "cell_type": "code",
   "execution_count": 10,
   "outputs": [],
   "source": [
    "def plot_version_time(times):\n",
    "    x = [i for i in range(1, len(times) + 1)]\n",
    "    plt.plot(x, times, color='tan', linewidth=3, marker='o', markersize=8)\n",
    "    plt.xticks(x)\n",
    "    plt.xlabel('Engine versions')\n",
    "    plt.ylabel('Times measurements')\n",
    "    for a,b in zip(x, times):\n",
    "      plt.text(a, b, str(b))\n",
    "    plt.show()"
   ],
   "metadata": {
    "collapsed": false,
    "pycharm": {
     "name": "#%%\n"
    }
   }
  },
  {
   "cell_type": "markdown",
   "source": [
    "# plot recall@k"
   ],
   "metadata": {
    "collapsed": false,
    "pycharm": {
     "name": "#%% md\n"
    }
   }
  },
  {
   "cell_type": "code",
   "execution_count": 11,
   "outputs": [],
   "source": [
    "def plot_recall_for_different_k(expected, actual, k):\n",
    "    \"\"\"\n",
    "    Plot recall@k.\n",
    "\n",
    "    Parameters:\n",
    "    ----------\n",
    "    expected: list of lists containing expected results for queries, as doc_id.\n",
    "    actual: list of lists containing sorted actual results for queries, as doc_id, sorted by score.\n",
    "    k: list of integers of different k.\n",
    "\n",
    "    Returns:\n",
    "    ----------\n",
    "    List of recall@k for each k received.\n",
    "    \"\"\"\n",
    "    values = []\n",
    "    for k_val in k:\n",
    "      values.append(recall(expected, actual, k_val))\n",
    "    plt.plot(k, values, color='m', linewidth=3, marker='o', markersize=8)\n",
    "    plt.xlabel('k')\n",
    "    plt.ylabel('actual')\n",
    "    plt.show()\n",
    "    return values"
   ],
   "metadata": {
    "collapsed": false,
    "pycharm": {
     "name": "#%%\n"
    }
   }
  },
  {
   "cell_type": "code",
   "execution_count": 35,
   "outputs": [
    {
     "name": "stdout",
     "output_type": "stream",
     "text": [
      "Retrival time for [best marvel movie] with search -> 2.8787693977355957\n",
      "Average precision for [best marvel movie] -> 0.0\n",
      "recall for [best marvel movie] -> 0.0\n",
      "Retrival time for [How do kids come to world?] with search -> 4.621966600418091\n",
      "Average precision for [How do kids come to world?] -> 0.048\n",
      "recall for [How do kids come to world?] -> 0.02\n",
      "Retrival time for [Information retrieval] with search -> 2.194486379623413\n",
      "Average precision for [Information retrieval] -> 0.7800769230769232\n",
      "recall for [Information retrieval] -> 0.65\n",
      "Retrival time for [LinkedIn] with search -> 0.35085058212280273\n",
      "Average precision for [LinkedIn] -> 1.0\n",
      "recall for [LinkedIn] -> 0.467\n",
      "Retrival time for [How to make coffee?] with search -> 1.5951175689697266\n",
      "Average precision for [How to make coffee?] -> 0.083\n",
      "recall for [How to make coffee?] -> 0.022\n",
      "Retrival time for [Ritalin] with search -> 0.3400084972381592\n",
      "Average precision for [Ritalin] -> 0.541\n",
      "recall for [Ritalin] -> 0.316\n",
      "Retrival time for [How to make wine at home?] with search -> 3.451756477355957\n",
      "Average precision for [How to make wine at home?] -> 0.0\n",
      "recall for [How to make wine at home?] -> 0.0\n",
      "Retrival time for [Most expensive city in the world] with search -> 7.034226417541504\n",
      "Average precision for [Most expensive city in the world] -> 0.4075\n",
      "recall for [Most expensive city in the world] -> 0.087\n",
      "Retrival time for [India] with search -> 1.151716947555542\n",
      "Average precision for [India] -> 0.0695\n",
      "recall for [India] -> 0.041\n",
      "Retrival time for [how to make money fast?] with search -> 3.287998676300049\n",
      "Average precision for [how to make money fast?] -> 0.5276666666666666\n",
      "recall for [how to make money fast?] -> 0.091\n",
      "Retrival time for [Netflix] with search -> 0.4166548252105713\n",
      "Average precision for [Netflix] -> 0.6348750000000001\n",
      "recall for [Netflix] -> 0.471\n",
      "Retrival time for [Apple computer] with search -> 0.9408082962036133\n",
      "Average precision for [Apple computer] -> 0.329\n",
      "recall for [Apple computer] -> 0.095\n",
      "Retrival time for [The Simpsons] with search -> 0.37113165855407715\n",
      "Average precision for [The Simpsons] -> 0.2001\n",
      "recall for [The Simpsons] -> 0.256\n",
      "Retrival time for [World cup] with search -> 5.195284128189087\n",
      "Average precision for [World cup] -> 0.036\n",
      "recall for [World cup] -> 0.023\n",
      "Retrival time for [How to lose weight?] with search -> 1.7321090698242188\n",
      "Average precision for [How to lose weight?] -> 0.0\n",
      "recall for [How to lose weight?] -> 0.0\n",
      "Retrival time for [Java] with search -> 0.41559672355651855\n",
      "Average precision for [Java] -> 0.0665\n",
      "recall for [Java] -> 0.043\n",
      "Retrival time for [Air Jordan] with search -> 2.6952106952667236\n",
      "Average precision for [Air Jordan] -> 0.49699999999999994\n",
      "recall for [Air Jordan] -> 0.103\n",
      "Retrival time for [how to deal with depression?] with search -> 1.921205997467041\n",
      "Average precision for [how to deal with depression?] -> 0.0\n",
      "recall for [how to deal with depression?] -> 0.0\n",
      "Retrival time for [How do you make gold] with search -> 2.2748842239379883\n",
      "Average precision for [How do you make gold] -> 0.0\n",
      "recall for [How do you make gold] -> 0.0\n",
      "Retrival time for [Marijuana] with search -> 0.3680415153503418\n",
      "Average precision for [Marijuana] -> 0.21133333333333335\n",
      "recall for [Marijuana] -> 0.064\n",
      "0.2715775961538461\n"
     ]
    }
   ],
   "source": [
    "import json\n",
    "import requests\n",
    "from time import time\n",
    "\n",
    "with open('new_train.json', 'rt') as f:\n",
    "    queries = json.load(f)\n",
    "\n",
    "# place the domain you got from ngrok or GCP IP below.\n",
    "url = 'http://104.198.201.67:8080'\n",
    "\n",
    "qs_res = []\n",
    "for query, wiki_ids in list(queries.items())[:20]:\n",
    "    t, ap_k, recall_k = None, None, None\n",
    "    t_start = time()\n",
    "    try:\n",
    "        res = requests.get(url + '/search', {'query': query}, timeout=35)\n",
    "        t = time() - t_start\n",
    "        if res.status_code == 200:\n",
    "            predicted= res.json()\n",
    "            ap_k = ap_at_k(wiki_ids, predicted)\n",
    "            recall_k = recall(wiki_ids, predicted)\n",
    "            print(f\"Retrival time for [{query}] with search -> {t}\")\n",
    "            print(f\"Average precision for [{query}] -> {ap_k}\")\n",
    "            print(f\"recall for [{query}] -> {recall_k}\")\n",
    "            qs_res.append((query, t, ap_k, recall_k))\n",
    "    except:\n",
    "        print(f\"Retrival time for [{query}] with search -> {t}\")\n",
    "        print(f\"Average precision for [{query}] -> {0.0}\")\n",
    "        print(f\"recall for [{query}] -> {0.0}\")\n",
    "        qs_res.append((query, t, 0.0, 0.0))\n",
    "        pass\n",
    "\n",
    "\n",
    "map_k = sum([qr[2] for qr in qs_res]) / 20\n",
    "\n",
    "print(map_k)"
   ],
   "metadata": {
    "collapsed": false,
    "pycharm": {
     "name": "#%%\n"
    }
   }
  },
  {
   "cell_type": "code",
   "execution_count": null,
   "outputs": [],
   "source": [],
   "metadata": {
    "collapsed": false,
    "pycharm": {
     "name": "#%%\n"
    }
   }
  },
  {
   "cell_type": "code",
   "execution_count": null,
   "outputs": [],
   "source": [],
   "metadata": {
    "collapsed": false,
    "pycharm": {
     "name": "#%%\n"
    }
   }
  }
 ],
 "metadata": {
  "kernelspec": {
   "display_name": "Python 3",
   "language": "python",
   "name": "python3"
  },
  "language_info": {
   "codemirror_mode": {
    "name": "ipython",
    "version": 2
   },
   "file_extension": ".py",
   "mimetype": "text/x-python",
   "name": "python",
   "nbconvert_exporter": "python",
   "pygments_lexer": "ipython2",
   "version": "2.7.6"
  }
 },
 "nbformat": 4,
 "nbformat_minor": 0
}