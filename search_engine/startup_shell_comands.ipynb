{
 "cells": [
  {
   "cell_type": "code",
   "execution_count": null,
   "metadata": {
    "collapsed": true,
    "pycharm": {
     "name": "#%%\n"
    }
   },
   "outputs": [],
   "source": [
    "pip install gensim\n",
    "mkdir indices\n",
    "mkdir body_bins\n",
    "mkdir title_bins\n",
    "mkdir anchor_bins\n",
    "mkdir views_ranks\n",
    "gsutil -m cp gs://information_retrieval_project/indices_new/* \"indices/\"\n",
    "gsutil -m cp gs://information_retrieval_project/postings_gcp_body_new/*.bin \"body_bins/\"\n",
    "gsutil -m cp gs://information_retrieval_project/postings_gcp_title_new/*.bin \"title_bins/\"\n",
    "gsutil -m cp gs://information_retrieval_project/postings_gcp_anchor_new/*.bin \"anchor_bins/\"\n",
    "gsutil -m cp gs://information_retrieval_project/views_ranks/* \"views_ranks/\"\n",
    "gunzip views_ranks/part-00000-562c3bda-ffab-4c73-944f-08aa804bf5db-c000.csv.gz"
   ]
  }
 ],
 "metadata": {
  "kernelspec": {
   "display_name": "Python 3",
   "language": "python",
   "name": "python3"
  },
  "language_info": {
   "codemirror_mode": {
    "name": "ipython",
    "version": 2
   },
   "file_extension": ".py",
   "mimetype": "text/x-python",
   "name": "python",
   "nbconvert_exporter": "python",
   "pygments_lexer": "ipython2",
   "version": "2.7.6"
  }
 },
 "nbformat": 4,
 "nbformat_minor": 0
}