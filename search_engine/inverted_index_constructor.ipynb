{
 "cells": [
  {
   "cell_type": "code",
   "execution_count": null,
   "outputs": [],
   "source": [
    "# if the following command generates an error, you probably didn't enable\n",
    "# the cluster security option \"Allow API accesses to all Google Cloud services\"\n",
    "# under Manage Security → Project Access when setting up the cluster\n",
    "!gcloud dataproc clusters list --region us-central1"
   ],
   "metadata": {
    "collapsed": false,
    "pycharm": {
     "name": "#%%\n"
    }
   }
  },
  {
   "cell_type": "code",
   "execution_count": null,
   "outputs": [],
   "source": [
    "!pip install -q google-cloud-storage == 1.43.0\n",
    "!pip install -q graphframes"
   ],
   "metadata": {
    "collapsed": false,
    "pycharm": {
     "name": "#%%\n"
    }
   }
  },
  {
   "cell_type": "code",
   "execution_count": null,
   "outputs": [],
   "source": [
    "# general\n",
    "import pyspark\n",
    "import sys\n",
    "from collections import Counter, OrderedDict, defaultdict\n",
    "import itertools\n",
    "from itertools import islice, count, groupby\n",
    "import pandas as pd\n",
    "import os\n",
    "import re\n",
    "from operator import itemgetter\n",
    "import nltk\n",
    "from nltk.stem.porter import *\n",
    "from nltk.corpus import stopwords\n",
    "from time import time\n",
    "from pathlib import Path\n",
    "import pickle\n",
    "import pandas as pd\n",
    "from google.cloud import storage\n",
    "\n",
    "import hashlib\n",
    "def _hash(s):\n",
    "    return hashlib.blake2b(bytes(s, encoding='utf8'), digest_size=5).hexdigest()\n",
    "\n",
    "nltk.download('stopwords')"
   ],
   "metadata": {
    "collapsed": false,
    "pycharm": {
     "name": "#%%\n"
    }
   }
  },
  {
   "cell_type": "code",
   "execution_count": null,
   "outputs": [],
   "source": [
    "# if nothing prints here you forgot to include the initialization script when starting the cluster\n",
    "!ls -l /usr/lib/spark/jars/graph*"
   ],
   "metadata": {
    "collapsed": false,
    "pycharm": {
     "name": "#%%\n"
    }
   }
  },
  {
   "cell_type": "code",
   "execution_count": null,
   "outputs": [],
   "source": [
    "from pyspark.sql import *\n",
    "from pyspark.sql.functions import *\n",
    "from pyspark import SparkContext, SparkConf, SparkFiles\n",
    "from pyspark.sql import SQLContext\n",
    "from graphframes import *"
   ],
   "metadata": {
    "collapsed": false,
    "pycharm": {
     "name": "#%%\n"
    }
   }
  },
  {
   "cell_type": "code",
   "execution_count": null,
   "outputs": [],
   "source": [
    "spark"
   ],
   "metadata": {
    "collapsed": false,
    "pycharm": {
     "name": "#%%\n"
    }
   }
  },
  {
   "cell_type": "code",
   "execution_count": null,
   "outputs": [],
   "source": [
    "# Put your bucket name below and make sure you can access it without an error\n",
    "bucket_name = 'information_retrieval_project'\n",
    "full_path = f\"gs://{bucket_name}/\"\n",
    "paths=[]\n",
    "\n",
    "client = storage.Client()\n",
    "blobs = client.list_blobs(bucket_name)\n",
    "for b in blobs:\n",
    "    if b.name != 'graphframes.sh' and b.name != 'pageviews-202108-user.pkl' and b.name != 'run_frontend_in_gcp.sh' and b.name != 'startup_script_gcp.sh':\n",
    "        paths.append(full_path+b.name)\n",
    "\n",
    "parquetFile = spark.read.parquet(*paths)"
   ],
   "metadata": {
    "collapsed": false,
    "pycharm": {
     "name": "#%%\n"
    }
   }
  },
  {
   "cell_type": "code",
   "execution_count": null,
   "outputs": [],
   "source": [
    "# if nothing prints here you forgot to upload the file inverted_index_gcp.py to the home dir\n",
    "%cd -q /home/dataproc\n",
    "!ls inverted_index_gcp.py"
   ],
   "metadata": {
    "collapsed": false,
    "pycharm": {
     "name": "#%%\n"
    }
   }
  },
  {
   "cell_type": "code",
   "execution_count": null,
   "outputs": [],
   "source": [
    "# adding our python module to the cluster\n",
    "sc.addFile(\"/home/dataproc/inverted_index_gcp.py\")\n",
    "sys.path.insert(0, SparkFiles.getRootDirectory())"
   ],
   "metadata": {
    "collapsed": false,
    "pycharm": {
     "name": "#%%\n"
    }
   }
  },
  {
   "cell_type": "markdown",
   "source": [
    "# Page Views"
   ],
   "metadata": {
    "collapsed": false,
    "pycharm": {
     "name": "#%% md\n"
    }
   }
  },
  {
   "cell_type": "code",
   "execution_count": null,
   "outputs": [],
   "source": [
    "# Paths\n",
    "# Using user page views (as opposed to spiders and automated traffic) for the\n",
    "# month of August 2021\n",
    "pv_path = 'https://dumps.wikimedia.org/other/pageview_complete/monthly/2021/2021-08/pageviews-202108-user.bz2'\n",
    "p = Path(pv_path)\n",
    "pv_name = p.name\n",
    "pv_temp = f'{p.stem}-4dedup.txt'\n",
    "pv_clean = f'{p.stem}.pkl'\n",
    "# Download the file (2.3GB)\n",
    "!wget -N $pv_path\n",
    "# Filter for English pages, and keep just two fields: article ID (3) and monthly\n",
    "# total number of page views (5). Then, remove lines with article id or page\n",
    "# view values that are not a sequence of digits.\n",
    "!bzcat $pv_name | grep \"^en\\.wikipedia\" | cut -d' ' -f3,5 | grep -P \"^\\d+\\s\\d+$\" > $pv_temp\n",
    "# Create a Counter (dictionary) that sums up the pages views for the same\n",
    "# article, resulting in a mapping from article id to total page views.\n",
    "wid2pv = Counter()\n",
    "with open(pv_temp, 'rt') as f:\n",
    "  for line in f:\n",
    "    parts = line.split(' ')\n",
    "    wid2pv.update({int(parts[0]): int(parts[1])})\n",
    "# write out the counter as binary file (pickle it)\n",
    "with open(pv_clean, 'wb') as f:\n",
    "  pickle.dump(wid2pv, f)\n",
    "# Create a Counter (dictionary) that sums up the pages views for the same\n",
    "# article, resulting in a mapping from article id to total page views.\n",
    "wid2pv = Counter()\n",
    "with open(pv_temp, 'rt') as f:\n",
    "    for line in f:\n",
    "        parts = line.split(' ')\n",
    "        wid2pv.update({int(parts[0]): int(parts[1])})\n",
    "# write out the counter as binary file (pickle it)\n",
    "with open(pv_clean, 'wb') as f:\n",
    "    pickle.dump(wid2pv, f)"
   ],
   "metadata": {
    "collapsed": false,
    "pycharm": {
     "name": "#%%\n"
    }
   }
  },
  {
   "cell_type": "markdown",
   "source": [
    "# Page Rank"
   ],
   "metadata": {
    "collapsed": false,
    "pycharm": {
     "name": "#%% md\n"
    }
   }
  },
  {
   "cell_type": "code",
   "execution_count": null,
   "outputs": [],
   "source": [
    "def generate_graph(pages):\n",
    "  \"\"\" Compute the directed graph generated by wiki links.\n",
    "  Parameters:\n",
    "  -----------\n",
    "    pages: RDD\n",
    "      An RDD where each row consists of one wikipedia articles with 'id' and\n",
    "      'anchor_text'.\n",
    "  Returns:\n",
    "  --------\n",
    "    edges: RDD\n",
    "      An RDD where each row represents an edge in the directed graph created by\n",
    "      the wikipedia links. The first entry should the source page id and the\n",
    "      second entry is the destination page id. No duplicates should be present.\n",
    "    vertices: RDD\n",
    "      An RDD where each row represents a vertex (node) in the directed graph\n",
    "      created by the wikipedia links. No duplicates should be present.\n",
    "  \"\"\"\n",
    "  # YOUR CODE HERE\n",
    "  edges_rdd = pages.mapValues(lambda x: [t[0] for t in x]).flatMap(lambda x: [(x[0], v) for v in x[1]]).distinct()\n",
    "  vertices_rdd = edges.flatMap(lambda x: [(v,) for v in x]).distinct()\n",
    "  return edges_rdd, vertices_rdd"
   ],
   "metadata": {
    "collapsed": false,
    "pycharm": {
     "name": "#%%\n"
    }
   }
  },
  {
   "cell_type": "code",
   "execution_count": null,
   "outputs": [],
   "source": [
    "pages_links = spark.read.parquet(\"gs://wikidata20210801_preprocess/*\").select(\"id\", \"anchor_text\").rdd\n",
    "# construct the graph\n",
    "edges, vertices = generate_graph(pages_links)\n",
    "# compute PageRank\n",
    "edgesDF = edges.toDF(['src', 'dst']).repartition(124, 'src')\n",
    "verticesDF = vertices.toDF(['id']).repartition(124, 'id')\n",
    "g = GraphFrame(verticesDF, edgesDF)\n",
    "pr_results = g.pageRank(resetProbability=0.15, maxIter=6)\n",
    "pr = pr_results.vertices.select(\"id\", \"pagerank\")\n",
    "pr = pr.sort(col('pagerank').desc())\n",
    "pr.repartition(1).write.csv(f'gs://{bucket_name}/pr', compression=\"gzip\")"
   ],
   "metadata": {
    "collapsed": false,
    "pycharm": {
     "name": "#%%\n"
    }
   }
  },
  {
   "cell_type": "markdown",
   "source": [
    "# Tokenization"
   ],
   "metadata": {
    "collapsed": false,
    "pycharm": {
     "name": "#%% md\n"
    }
   }
  },
  {
   "cell_type": "code",
   "execution_count": null,
   "outputs": [],
   "source": [
    "english_stopwords = frozenset(stopwords.words('english'))\n",
    "corpus_stopwords = [\"category\", \"references\", \"also\", \"external\", \"links\",\n",
    "                    \"may\", \"first\", \"see\", \"history\", \"people\", \"one\", \"two\",\n",
    "                    \"part\", \"thumb\", \"including\", \"second\", \"following\",\n",
    "                    \"many\", \"however\", \"would\", \"became\"]\n",
    "\n",
    "all_stopwords = english_stopwords.union(corpus_stopwords)\n",
    "RE_WORD = re.compile(r\"\"\"[\\#\\@\\w](['\\-]?\\w){2,24}\"\"\", re.UNICODE)\n",
    "\n",
    "NUM_BUCKETS = 124\n",
    "def token2bucket_id(token):\n",
    "  return int(_hash(token),16) % NUM_BUCKETS\n",
    "\n",
    "def tokenize(text):\n",
    "    \"\"\"\n",
    "    This function aims in tokenize a text into a list of tokens. Moreover, it filter stopwords.\n",
    "    Parameters:\n",
    "    -----------\n",
    "        text: string , representing the text to tokenize.\n",
    "    Returns:\n",
    "    -----------\n",
    "        list of tokens (e.g., list of tokens).\n",
    "    \"\"\"\n",
    "    list_of_tokens = [token.group() for token in RE_WORD.finditer(text.lower()) if\n",
    "                      token.group() not in all_stopwords]\n",
    "    return list_of_tokens"
   ],
   "metadata": {
    "collapsed": false,
    "pycharm": {
     "name": "#%%\n"
    }
   }
  },
  {
   "cell_type": "markdown",
   "source": [
    "# Counts: Term Weights"
   ],
   "metadata": {
    "collapsed": false,
    "pycharm": {
     "name": "#%% md\n"
    }
   }
  },
  {
   "cell_type": "code",
   "execution_count": null,
   "outputs": [],
   "source": [
    "# PLACE YOUR CODE HERE\n",
    "def word_count(text, id):\n",
    "    \"\"\" Count the frequency of each word in `text` (tf) that is not included in\n",
    "    `all_stopwords` and return entries that will go into our posting lists.\n",
    "    Parameters:\n",
    "    -----------\n",
    "      text: str\n",
    "        Text of one document\n",
    "      id: int\n",
    "        Document id\n",
    "    Returns:\n",
    "    --------\n",
    "      List of tuples\n",
    "        A list of (token, (doc_id, tf)) pairs.\n",
    "    \"\"\"\n",
    "    # YOUR CODE HERE\n",
    "    word_counter = Counter()\n",
    "    word_counter.update(tokenize(text))\n",
    "    return [(token[0], (id, token[1])) for token in word_counter.items()]\n",
    "\n",
    "def reduce_word_counts(unsorted_pl):\n",
    "    \"\"\" Returns a sorted posting list by wiki_id.\n",
    "    Parameters:\n",
    "    -----------\n",
    "      unsorted_pl: list of tuples\n",
    "        A list of (wiki_id, tf) tuples\n",
    "    Returns:\n",
    "    --------\n",
    "      list of tuples\n",
    "        A sorted posting list.\n",
    "    \"\"\"\n",
    "    # YOUR CODE HERE\n",
    "    return sorted(unsorted_pl)\n",
    "\n",
    "def get_doc_counter(text):\n",
    "  \"\"\"\n",
    "  Calculates and returns a word counter for a given document\n",
    "  \"\"\"\n",
    "  tokens = tokenize(text)\n",
    "  word_counter = Counter(tokens)\n",
    "  return word_counter\n",
    "\n",
    "def calculate_df(postings):\n",
    "    \"\"\" Takes a posting list RDD and calculate the df for each token.\n",
    "    Parameters:\n",
    "    -----------\n",
    "      postings: RDD\n",
    "        An RDD where each element is a (token, posting_list) pair.\n",
    "    Returns:\n",
    "    --------\n",
    "      RDD\n",
    "        An RDD where each element is a (token, df) pair.\n",
    "    \"\"\"\n",
    "    # YOUR CODE HERE\n",
    "    return postings.map(lambda x: (x[0], len(x[1])))\n",
    "\n",
    "def get_doc_length(text, id):\n",
    "    \"\"\" Calculates the document's length, not including `all_stopwords`.\n",
    "    Parameters:\n",
    "    -----------\n",
    "      text: str\n",
    "        Text of one document\n",
    "      id: int\n",
    "        Document id\n",
    "    Returns:\n",
    "    --------\n",
    "      tuple:\n",
    "        (ID, Document length)\n",
    "    \"\"\"\n",
    "    return id, len(tokenize(text))\n",
    "\n",
    "def partition_postings_and_write(postings, index):\n",
    "    \"\"\" A function that partitions the posting lists into buckets, writes out\n",
    "    all posting lists in a bucket to disk, and returns the posting locations for\n",
    "    each bucket. Partitioning should be done through the use of `token2bucket`\n",
    "    above. Writing to disk should use the function  `write_a_posting_list`, a\n",
    "    static method implemented in inverted_index_colab.py under the InvertedIndex\n",
    "    class.\n",
    "    Parameters:\n",
    "    -----------\n",
    "      postings: RDD\n",
    "        An RDD where each item is a (w, posting_list) pair.\n",
    "    Returns:\n",
    "    --------\n",
    "      RDD\n",
    "        An RDD where each item is a posting locations dictionary for a bucket. The\n",
    "        posting locations maintain a list for each word of file locations and\n",
    "        offsets its posting list was written to. See `write_a_posting_list` for\n",
    "        more details.\n",
    "    \"\"\"\n",
    "    # YOUR CODE HERE\n",
    "    return postings.groupBy(lambda x: token2bucket_id(x[0])).map(lambda x: index.write_a_posting_list(x, bucket_name))\n",
    "\n",
    "def createIndex(index, w2df_dict, totals_for_terms, doc_id_to_norm, DL_dict, avgDL, directory, isTitle):\n",
    "    # collect all posting lists locations into one super-set\n",
    "    super_posting_locs = defaultdict(list)\n",
    "    for blob in client.list_blobs(bucket_name, prefix=f'postings_gcp/'):\n",
    "      if not blob.name.endswith(\"pickle\"):\n",
    "        continue\n",
    "      with blob.open(\"rb\") as f:\n",
    "        posting_locs = pickle.load(f)\n",
    "        for k, v in posting_locs.items():\n",
    "          super_posting_locs[k].extend(v)\n",
    "\n",
    "    # Adding the posting locations dictionary to the inverted index\n",
    "    index.posting_locs = super_posting_locs\n",
    "    # Add the token - df dictionary to the inverted index\n",
    "    index.df = w2df_dict\n",
    "    # Add total number of terms dict\n",
    "    index.totals_for_terms = totals_for_terms\n",
    "    # Add DL_body dict\n",
    "    index.DL = DL_dict\n",
    "    # Add Average doc length\n",
    "    index.avgDL = avgDL\n",
    "    # Add number of terms\n",
    "    index.number_of_terms = len(index.totals_for_terms)\n",
    "    # Add norm\n",
    "    index.doc_id_to_norm = doc_id_to_norm\n",
    "    # Save id to title\n",
    "    if isTitle:\n",
    "        index.id_to_title = doc_title_pairs.collectAsMap()\n",
    "    # write the global stats out\n",
    "    index.write_index('.', directory)\n",
    "    # upload to gs\n",
    "    index_src = f'{directory}.pkl'\n",
    "    index_dst = f'gs://{bucket_name}/postings_gcp/{index_src}'\n",
    "    !gsutil cp $index_src $index_dst\n",
    "    !gsutil ls -lh $index_dst"
   ],
   "metadata": {
    "collapsed": false,
    "pycharm": {
     "name": "#%%\n"
    }
   }
  },
  {
   "cell_type": "markdown",
   "source": [
    "# Create the Body Indexes"
   ],
   "metadata": {
    "collapsed": false,
    "pycharm": {
     "name": "#%% md\n"
    }
   }
  },
  {
   "cell_type": "code",
   "execution_count": null,
   "outputs": [],
   "source": [
    "from inverted_index_gcp import InvertedIndex as bodyIndex\n",
    "\n",
    "body_index = bodyIndex()\n",
    "\n",
    "# take the 'text' and 'id' and create an RDD from it\n",
    "doc_text_pairs = parquetFile.select(\"text\", \"id\").rdd\n",
    "\n",
    "# word counts map\n",
    "word_counts = doc_text_pairs.flatMap(lambda x: word_count(x[0], x[1]))\n",
    "postings = word_counts.groupByKey().mapValues(reduce_word_counts)\n",
    "\n",
    "# filtering postings and calculate df\n",
    "postings = postings.filter(lambda x: len(x[1])>50)\n",
    "\n",
    "w2df = calculate_df(postings)\n",
    "w2df_dict = w2df.collectAsMap()\n",
    "\n",
    "DL_RDD = doc_text_pairs.map(lambda x: get_doc_length(x[0], x[1]))\n",
    "\n",
    "avgDL = DL_RDD.map(lambda x: x[1]).mean()\n",
    "\n",
    "DL = DL_RDD.collectAsMap()\n",
    "\n",
    "totals_for_terms = (word_counts.map(lambda x: (x[0], x[1][1]))).reduceByKey(lambda x, y: x + y).collectAsMap()\n",
    "\n",
    "N = len(DL)\n",
    "\n",
    "doc_id_to_norm = doc_text_pairs.map(lambda x: (x[1], get_doc_counter(x[0]))).map(lambda x: (x[0], np.linalg.norm([(x[1][term] / DL[x[0]]) * math.log(N / w2df_dict.get(term, N), 10) for term in x[1]]))).collectAsMap()\n",
    "\n",
    "# partition posting lists and write out\n",
    "_ = partition_postings_and_write(postings, body_index).collect()\n",
    "\n",
    "createIndex(body_index, w2df_dict, totals_for_terms, doc_id_to_norm, DL, avgDL, 'body_index', False)"
   ],
   "metadata": {
    "collapsed": false,
    "pycharm": {
     "name": "#%%\n"
    }
   }
  },
  {
   "cell_type": "markdown",
   "source": [
    "# Create the Title Indexes"
   ],
   "metadata": {
    "collapsed": false,
    "pycharm": {
     "name": "#%% md\n"
    }
   }
  },
  {
   "cell_type": "code",
   "execution_count": null,
   "outputs": [],
   "source": [
    "from inverted_index_gcp import InvertedIndex as titleIndex\n",
    "\n",
    "title_index = titleIndex()\n",
    "\n",
    "# take the 'title' and 'id' and create an RDD from it\n",
    "doc_title_pairs = parquetFile.select(\"title\", \"id\").rdd\n",
    "\n",
    "# word counts map\n",
    "word_counts = doc_title_pairs.flatMap(lambda x: word_count(x[0], x[1]))\n",
    "postings = word_counts.groupByKey().mapValues(reduce_word_counts)\n",
    "\n",
    "w2df = calculate_df(postings)\n",
    "w2df_dict = w2df.collectAsMap()\n",
    "\n",
    "DL_RDD = doc_title_pairs.map(lambda x: get_doc_length(x[0], x[1]))\n",
    "\n",
    "avgDL = DL_RDD.map(lambda x: x[1]).mean()\n",
    "\n",
    "DL = DL_RDD.collectAsMap()\n",
    "\n",
    "totals_for_terms = (word_counts.map(lambda x: (x[0], x[1][1]))).reduceByKey(lambda x, y: x + y).collectAsMap()\n",
    "\n",
    "N = len(DL)\n",
    "\n",
    "doc_id_to_norm = doc_title_pairs.map(lambda x: (x[1], get_doc_counter(x[0]))).map(lambda x: (x[0], np.linalg.norm([(x[1][term] / DL[x[0]]) * math.log(N / w2df_dict.get(term, N), 10) for term in x[1]]))).collectAsMap()\n",
    "\n",
    "# partition posting lists and write out\n",
    "_ = partition_postings_and_write(postings, title_index).collect()\n",
    "\n",
    "createIndex(title_index, w2df_dict, totals_for_terms, doc_id_to_norm, DL, avgDL, 'title_index', True)"
   ],
   "metadata": {
    "collapsed": false,
    "pycharm": {
     "name": "#%%\n"
    }
   }
  },
  {
   "cell_type": "markdown",
   "source": [
    "# Create the Anchor Indexes"
   ],
   "metadata": {
    "collapsed": false,
    "pycharm": {
     "name": "#%% md\n"
    }
   }
  },
  {
   "cell_type": "code",
   "execution_count": null,
   "outputs": [],
   "source": [
    "from inverted_index_gcp import InvertedIndex as anchorIndex\n",
    "\n",
    "anchor_index = anchorIndex()\n",
    "\n",
    "# take the 'anchor' and create an RDD from it\n",
    "doc_anchor = parquetFile.select(\"anchor_text\").rdd\n",
    "doc_anchor_pairs = parquetFile.select(\"id\",\"anchor_text\").rdd.flatMap(lambda x :x[1]).groupByKey().mapValues(list).map(lambda x : (x[0],\" \".join([y for y in x[1]])))\n",
    "\n",
    "\n",
    "# word counts map\n",
    "word_counts = doc_anchor.flatMap(lambda x: x.anchor_text).distinct().map(lambda x: word_count(x.text, x.id)).flatMap(lambda x: x).distinct()\n",
    "postings = word_counts.groupByKey().mapValues(reduce_word_counts)\n",
    "\n",
    "w2df = calculate_df(postings)\n",
    "w2df_dict = w2df.collectAsMap()\n",
    "\n",
    "DL_RDD = doc_anchor_pairs.map(lambda x: get_doc_length(x[0], x[1]))\n",
    "\n",
    "avgDL = DL_RDD.map(lambda x: x[1]).mean()\n",
    "\n",
    "DL = DL_RDD.collectAsMap()\n",
    "\n",
    "totals_for_terms = (word_counts.map(lambda x: (x[0], x[1][1]))).reduceByKey(lambda x, y: x + y).collectAsMap()\n",
    "\n",
    "N = len(DL)\n",
    "\n",
    "doc_id_to_norm = doc_anchor_pairs.map(lambda x: (x[0], get_doc_counter(x[1]))).filter(lambda x: DL[x[0]] != 0).map(lambda x: (x[0], np.linalg.norm([(x[1][term] / DL[x[0]]) * math.log(N / w2df_dict.get(term, N), 10) for term in x[1]]))).collectAsMap()\n",
    "\n",
    "# partition posting lists and write out\n",
    "_ = partition_postings_and_write(postings, anchor_index).collect()\n",
    "\n",
    "createIndex(anchor_index, w2df_dict, totals_for_terms, doc_id_to_norm, DL, avgDL, 'anchor_index', False)"
   ],
   "metadata": {
    "collapsed": false,
    "pycharm": {
     "name": "#%%\n"
    }
   }
  }
 ],
 "metadata": {
  "kernelspec": {
   "display_name": "Python 3",
   "language": "python",
   "name": "python3"
  },
  "language_info": {
   "codemirror_mode": {
    "name": "ipython",
    "version": 2
   },
   "file_extension": ".py",
   "mimetype": "text/x-python",
   "name": "python",
   "nbconvert_exporter": "python",
   "pygments_lexer": "ipython2",
   "version": "2.7.6"
  }
 },
 "nbformat": 4,
 "nbformat_minor": 0
}